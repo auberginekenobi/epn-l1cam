{
 "cells": [
  {
   "cell_type": "markdown",
   "id": "20648ddd-e4ea-4f7f-9333-1388d4ef6b08",
   "metadata": {},
   "source": [
    "# Batch correction and integrated analysis of ependymoma samples\n",
    "Regrettably, seems gojo et al aggregated all of their sequencing by sample, so impossible now to\n",
    "batch correct on sequencing type (scSmart-seq2, snSmart-seq2, 10X Genomics) without reanalyzing from scratch.\n"
   ]
  },
  {
   "cell_type": "code",
   "execution_count": null,
   "id": "684ebee4-3fd5-4905-b86e-e89f9f7862d3",
   "metadata": {
    "scrolled": true
   },
   "outputs": [],
   "source": [
    "# Load all required libraries\n",
    "Sys.setenv(LANGUAGE = \"en\") # set language to \"ja\" if you prefer\n",
    "library(Seurat)\n",
    "library(tidyverse)\n",
    "library(harmony)\n",
    "library(ggplot2)\n",
    "library(future)\n",
    "library(ggalluvial)\n",
    "library(mclust)\n",
    "library(patchwork)"
   ]
  },
  {
   "cell_type": "code",
   "execution_count": null,
   "id": "835ca68a-f665-4aca-a069-e3c3121565f4",
   "metadata": {},
   "outputs": [],
   "source": [
    "# Set parallel execution settings\n",
    "future::plan(\"multisession\", workers = as.integer(availableCores()/2), gc = TRUE)\n",
    "options(future.globals.maxSize = 1024*8*1024^2) # Set max variable size to 8Gb"
   ]
  },
  {
   "cell_type": "code",
   "execution_count": null,
   "id": "91b35b60-bdc5-4504-bd87-97b15980fcf3",
   "metadata": {},
   "outputs": [],
   "source": [
    "# Load data\n",
    "DATA_DIR = file.path('data','external','gojo_et_al') # change this if you put your data somewhere other than ./data/external/gojo_et_al/\n",
    "import_gojo_data <- function(counts_file,metadata_file,path){\n",
    "    counts_path = file.path(DATA_DIR,counts_file)\n",
    "    metadata_path = file.path(DATA_DIR,metadata_file)\n",
    "    counts = read.table(counts_path)\n",
    "    meta = read.table(metadata_path)    \n",
    "    obj <- CreateSeuratObject(counts = counts , meta.data = meta) %>% suppressWarnings\n",
    "    return(obj)\n",
    "}\n",
    "clean_pdx <- function(pdx){\n",
    "    # clean the pdx metadata.\n",
    "    # Delete column V1 (duplicate of row indices)\n",
    "    # rename column V2\n",
    "    names(pdx[[]])[names(pdx[[]]) == 'V2'] <- 'sample'\n",
    "    pdx@meta.data[c('V1','V2')] <- NULL\n",
    "    pdx$annotation <- pdx$sample\n",
    "    return(pdx)\n",
    "}"
   ]
  },
  {
   "cell_type": "code",
   "execution_count": null,
   "id": "9dcbff87-1b4b-4fb5-b8ea-f767a130ebb7",
   "metadata": {},
   "outputs": [],
   "source": [
    "# Load data for ST samples\n",
    "\n",
    "#pf = import_gojo_data('PF_EPN_counts_200519lj.txt','PF_EPN_metadata_200519lj.txt',DATA_DIR)\n",
    "#sp = import_gojo_data('SP_EPN_counts_200519lj.txt','SP_EPN_metadata_200519lj.txt',DATA_DIR)\n",
    "st = import_gojo_data('ST_EPN_counts_200519lj.txt','ST_EPN_metadata_200519lj.txt',DATA_DIR)\n",
    "pdx = import_gojo_data('PDX_counts.txt','PDX_metadata.txt',DATA_DIR) %>% clean_pdx\n",
    "#pairs = import_gojo_data('Matched_pair_counts_200519lj.txt','Matched_pair_metadata_200519lj.txt',DATA_DIR)\n",
    "\n",
    "# Throw out BT1030 (not ST), CPDM0785 (not ST), MUV006 (ST YAP1), Peds4 (low counts), and BT165PDX (low counts)\n",
    "samples_of_interest <- c('MUV043','MUV043Nuc1','MUV043Nuc2','MUV056')\n",
    "st <- merge(st, y=pdx) %>% JoinLayers\n",
    "st <- subset(st, sample %in% samples_of_interest)\n",
    "st_list <- SplitObject(st, split.by = \"sample\")\n",
    "\n",
    "st_list"
   ]
  },
  {
   "cell_type": "code",
   "execution_count": null,
   "id": "5f063803-345b-4290-a696-319a2fa092c4",
   "metadata": {},
   "outputs": [],
   "source": [
    "# Define QC thresholds\n",
    "ncount_lower_threshold = 1000\n",
    "ncount_upper_threshold = 1000000\n",
    "nfeature_lower_threshold = 1000\n",
    "nfeature_upper_threshold = 10000\n",
    "\n",
    "# Plot threshods\n",
    "options(repr.plot.width = 16, repr.plot.height =6)\n",
    "VlnPlot(st, features=\"nCount_RNA\", group.by='sample', log=TRUE) + \n",
    "    geom_hline(yintercept=ncount_lower_threshold, color='red') + \n",
    "    geom_hline(yintercept=ncount_upper_threshold, color='red')\n",
    "VlnPlot(st, features=\"nFeature_RNA\", group.by='sample') +\n",
    "    geom_hline(yintercept=nfeature_lower_threshold,color='red') + \n",
    "    geom_hline(yintercept=nfeature_upper_threshold,color='red')\n"
   ]
  },
  {
   "cell_type": "code",
   "execution_count": null,
   "id": "0f2ab1a6-4b9e-4b7d-9b55-889f866880c5",
   "metadata": {
    "scrolled": true
   },
   "outputs": [],
   "source": [
    "l1cam_analysis <- function(seuratobj){\n",
    "    seuratobj <- seuratobj %>% \n",
    "    subset(nFeature_RNA > nfeature_lower_threshold & nFeature_RNA < nfeature_upper_threshold &\n",
    "                        nCount_RNA > ncount_lower_threshold & nCount_RNA < ncount_upper_threshold) %>%\n",
    "    SCTransform(verbose = FALSE, vst.flavor=\"v2\") %>%\n",
    "    subset(malignant == \"Malignant\")\n",
    "\n",
    "    l1cam_expr <- seuratobj[[\"SCT\"]]@data[\"L1CAM\", ]\n",
    "\n",
    "    # Calculate the thresholds\n",
    "    low_threshold <- quantile(l1cam_expr, 0.25)    # 25th percentile\n",
    "    high_threshold <- quantile(l1cam_expr, 0.75)   # 75th percentile\n",
    "    \n",
    "    # Create a new metadata column with \"high,\" \"middle,\" or \"low\"\n",
    "    seuratobj$l1cam_exp <- cut(\n",
    "      l1cam_expr,\n",
    "      breaks = c(-Inf, low_threshold, high_threshold, Inf),\n",
    "      labels = c(\"low\", \"middle\", \"high\"),\n",
    "      right = FALSE\n",
    "    )\n",
    "    Idents(seuratobj) <- seuratobj$l1cam_exp #%>%\n",
    "    #FindMarkers(cells.1 = \"high\", cells.2 = \"low\")\n",
    "    return(seuratobj)\n",
    "}\n",
    "\n",
    "st_list <- lapply(X = st_list, FUN = l1cam_analysis) # loops over each element in list (donor)"
   ]
  },
  {
   "cell_type": "code",
   "execution_count": null,
   "id": "910f38b5-2cc5-42f4-b5dd-3111bdf10371",
   "metadata": {},
   "outputs": [],
   "source": [
    "differential_exp <- function(seuratobj,qval_threshold=0.2){\n",
    "    markers <- FindMarkers(seuratobj,ident.1=\"high\",ident.2=\"low\") %>%\n",
    "    subset(p_val_adj < qval_threshold)\n",
    "    sample <- seuratobj$sample %>% unique\n",
    "    results[sample] <- markers\n",
    "}\n",
    "lapply(X = st_list, FUN = differential_exp)\n",
    "\n",
    "# INTS1 and TTYH1 are differentially expressed in 2 or more samples.\n"
   ]
  },
  {
   "cell_type": "markdown",
   "id": "3bad0879-a081-4c44-8766-75e23dc47cab",
   "metadata": {},
   "source": [
    "# Dead code"
   ]
  },
  {
   "cell_type": "code",
   "execution_count": null,
   "id": "0a87aba3-1af8-42e9-b702-d9fc7a64d5c1",
   "metadata": {},
   "outputs": [],
   "source": [
    "# merge into 1 dataset\n",
    "gojo <- merge(pf, y=c(sp,st,pdx,pairs)) %>% JoinLayers\n",
    "gojo\n",
    "# list samples\n",
    "get_sample_names <- function(seuratobject){\n",
    "    return(seuratobject@meta.data$sample %>% unique())\n",
    "}\n",
    "get_sample_names(gojo)"
   ]
  },
  {
   "cell_type": "code",
   "execution_count": null,
   "id": "65400e08-0fe7-42bb-a973-5f383086dcf1",
   "metadata": {
    "scrolled": true
   },
   "outputs": [],
   "source": [
    "# https://statomics.github.io/singleCellCourse/lab4_CuomoTemplate.html#15_Trajectory_inference\n",
    "g_alt_list <- SplitObject(gojo, split.by = \"sample\")\n",
    "# get only the ZFTA samples\n",
    "zfta_samples <- c('BT165PDX','MUV043','MUV043Nuc1','MUV043Nuc2','MUV056','Peds4')\n",
    "\n",
    "g_alt_list <- g_alt_list[zfta_samples]\n",
    "g_alt_list <- lapply(X = g_alt_list, FUN = function(x) { # loops over each element in list (donor)\n",
    "    x <- SCTransform(x, verbose = TRUE, vst.flavor=\"v2\")\n",
    "    x <- RunPCA(x, verbose = FALSE, reduction.name=\"normalized.pca\")\n",
    "})\n",
    "features <- SelectIntegrationFeatures(object.list = g_alt_list, nfeatures = 3000)\n",
    "g_alt_list <- PrepSCTIntegration(object.list = g_alt_list, anchor.features = features)\n",
    "anchors <- FindIntegrationAnchors(object.list = g_alt_list, normalization.method = \"SCT\",\n",
    "    anchor.features = features)\n",
    "# Extract features from each SeuratObject\n",
    "feature_lists <- lapply(g_alt_list, function(obj) rownames(obj))\n",
    "# Find the intersection of features across all SeuratObjects\n",
    "common_features <- Reduce(intersect, feature_lists)\n",
    "g_alt <- IntegrateData(anchorset = anchors, features.to.integrate=common_features, normalization.method = \"SCT\",k.weight=30)"
   ]
  },
  {
   "cell_type": "code",
   "execution_count": null,
   "id": "f4227dae-0e40-413f-8213-cab595df9e0e",
   "metadata": {},
   "outputs": [],
   "source": [
    "g_alt_list"
   ]
  },
  {
   "cell_type": "code",
   "execution_count": null,
   "id": "fb3a0d0b-a8ff-4f1e-a672-112cd5007524",
   "metadata": {},
   "outputs": [],
   "source": [
    "VlnPlot(g_alt, features = 'L1CAM', assay='integrated', group.by='annotation',layer='scale.data')"
   ]
  },
  {
   "cell_type": "code",
   "execution_count": null,
   "id": "9e473818-ebfa-4bf5-a9e7-64c603cb9b25",
   "metadata": {
    "scrolled": true
   },
   "outputs": [],
   "source": [
    "correlations <- list()\n",
    "\n",
    "# Extract the expression data\n",
    "expr_data <- g_alt[[\"integrated\"]]@scale.data\n",
    "\n",
    "# Get the expression of L1CAM\n",
    "l1cam_expr <- expr_data[\"L1CAM\", ]\n",
    "\n",
    "# Loop through each feature\n",
    "for (feature in rownames(g_alt)) {\n",
    "  # Get the expression of the current feature\n",
    "  if (feature == 'L1CAM'){\n",
    "      next\n",
    "  }\n",
    "  feature_expr <- expr_data[feature, ]\n",
    "  \n",
    "  # Calculate the correlation\n",
    "  cor_value <- cor(l1cam_expr, feature_expr, use = \"pairwise.complete.obs\")\n",
    "  \n",
    "  # Store the correlation value\n",
    "  correlations[[feature]] <- cor_value\n",
    "}\n",
    "\n",
    "# Convert to a data frame for better visualization\n",
    "correlations_df <- data.frame(feature = names(correlations), correlation = unlist(correlations))\n",
    "\n",
    "# Sort the correlations dataframe using dplyr\n",
    "correlations_df <- correlations_df %>%\n",
    "  arrange(desc(correlation))\n"
   ]
  },
  {
   "cell_type": "code",
   "execution_count": null,
   "id": "9b47923f-1d8b-4073-b78d-ee3cb2c14753",
   "metadata": {},
   "outputs": [],
   "source": [
    "options(repr.plot.width = 16, repr.plot.height =32)\n",
    "\n",
    "n <- 10 \n",
    "# Get the top n features based on correlation\n",
    "top_features <- head(correlations_df$feature, n)\n",
    "\n",
    "# Initialize an empty list to store plots\n",
    "plots <- list()\n",
    "\n",
    "# Loop through each of the top features and create a FeatureScatter plot\n",
    "for (feature in top_features) {\n",
    "  cor_test <- cor.test(l1cam_expr,\n",
    "                       expr_data[feature, ],\n",
    "                       method = \"pearson\")\n",
    "  \n",
    "  # Extract the p-value\n",
    "  p_value <- cor_test$p.value\n",
    "  \n",
    "  # Create a formatted string for the p-value\n",
    "  p_value_text <- paste(\"p =\", format(p_value, digits = 2))\n",
    "  \n",
    "  p <- FeatureScatter(g_alt, feature1=\"L1CAM\", feature2=feature, slot=\"scale.data\") +\n",
    "       ggtitle(paste(\"Correlation with\", feature)) +\n",
    "       annotate(\"text\", x = Inf, y = Inf, label = p_value_text, hjust = 1.1, vjust = 1.1, size = 4, color = \"black\")\n",
    "  plots[[feature]] <- p\n",
    "}\n",
    "\n",
    "# Combine all plots using patchwork\n",
    "combined_plot <- wrap_plots(plots) + plot_layout(ncol = 2)  # Adjust ncol as needed\n",
    "\n",
    "# Display the combined plot\n",
    "print(head(correlations_df,n))\n",
    "print(combined_plot)"
   ]
  },
  {
   "cell_type": "code",
   "execution_count": null,
   "id": "660caab1-3089-41d7-8feb-bcd4544ca95c",
   "metadata": {},
   "outputs": [],
   "source": [
    "# Assuming your list of SeuratObjects is called seurat_list\n",
    "# Initialize a list to store correlation results\n",
    "\n",
    "correlations_2 <- function(seurat_list){\n",
    "    correlation_results <- list()\n",
    "    # Loop through each SeuratObject\n",
    "    for (i in seq_along(seurat_list)) {\n",
    "      obj <- seurat_list[[i]]\n",
    "\n",
    "      # Extract expression data\n",
    "      expr_data <- obj[[\"SCT\"]]@data\n",
    "\n",
    "      # Get the expression of L1CAM\n",
    "      l1cam_expr <- expr_data[\"L1CAM\", ]\n",
    "      \n",
    "      # Initialize a vector to store correlations for this object\n",
    "      cor_values <- numeric(nrow(expr_data))\n",
    "      names(cor_values) <- rownames(expr_data)\n",
    "      \n",
    "      # Calculate correlations for each feature\n",
    "      for (feature in rownames(expr_data)) {\n",
    "        if (feature == 'L1CAM'){\n",
    "          next\n",
    "        }\n",
    "        cor_values[feature] <- cor(l1cam_expr, expr_data[feature, ], use = \"pairwise.complete.obs\") %>% SuppressWarnings\n",
    "      }\n",
    "      \n",
    "      # Store the results in the list\n",
    "      correlation_results[[i]] <- cor_values\n",
    "    }\n",
    "    \n",
    "    # Combine results into a single data frame\n",
    "    combined_correlations <- do.call(cbind, correlation_results)\n",
    "    return(combined_correlations)\n",
    "    \n",
    "    # Calculate the mean correlation across all samples\n",
    "    mean_correlations <- rowMeans(combined_correlations, na.rm = TRUE)\n",
    "    \n",
    "    # Create a data frame with features and their mean correlations\n",
    "    correlations_df <- data.frame(feature = names(mean_correlations), correlation = mean_correlations)\n",
    "    \n",
    "    # Sort by correlation\n",
    "    correlations_df_sorted <- correlations_df[order(correlations_df$correlation, decreasing = TRUE), ]\n",
    "    \n",
    "    # Print the sorted correlations\n",
    "    return(correlations_df_sorted)\n",
    "}"
   ]
  },
  {
   "cell_type": "code",
   "execution_count": null,
   "id": "7022bd11-7e69-4ad7-802c-07b415a9c1ea",
   "metadata": {
    "scrolled": true
   },
   "outputs": [],
   "source": [
    "asdf <- correlations_2(g_alt_list)\n"
   ]
  },
  {
   "cell_type": "code",
   "execution_count": null,
   "id": "559b5f74-3d79-4085-accf-d8582f1e0421",
   "metadata": {},
   "outputs": [],
   "source": [
    "rownames(g_alt[[\"SCT\"]]@data)"
   ]
  },
  {
   "cell_type": "code",
   "execution_count": null,
   "id": "214e31f1-f0c9-47e5-86e0-cadcf4c4b2f3",
   "metadata": {},
   "outputs": [],
   "source": [
    "mean_correlations <- rowMeans(asdf, na.rm = TRUE)\n",
    "mean_correlations <- mean_correlations[order(-unlist(mean_correlations))]\n",
    "head(mean_correlations,n=10)"
   ]
  },
  {
   "cell_type": "code",
   "execution_count": null,
   "id": "4c2aeabf-baa2-4b98-b8e8-e7615b87252e",
   "metadata": {},
   "outputs": [],
   "source": [
    "# scTransform should be performed per sample. See\n",
    "# https://github.com/satijalab/seurat/issues/5306\n",
    "# https://satijalab.org/seurat/archive/v4.3/sctransform_v2_vignette\n",
    "gojo[[\"RNA\"]] <- split(gojo[[\"RNA\"]], f = gojo$sample)\n",
    "DefaultAssay(gojo) <- \"RNA\"\n",
    "gojo"
   ]
  },
  {
   "cell_type": "code",
   "execution_count": null,
   "id": "5100661e-4091-4c6d-861b-fe1e57ac767e",
   "metadata": {
    "scrolled": true
   },
   "outputs": [],
   "source": [
    "# Normalization\n",
    "# For details see https://satijalab.org/seurat/articles/sctransform_vignette.html\n",
    "# This takes a long time (>1h on 12 cores)\n",
    "gojo <- SCTransform(gojo, verbose = TRUE, vst.flavor = \"v2\")"
   ]
  },
  {
   "cell_type": "code",
   "execution_count": null,
   "id": "80c0078e-7637-4d3d-b524-19683c23f331",
   "metadata": {},
   "outputs": [],
   "source": [
    "# Checkpoint: normalization took forever so we save this as an .rds file\n",
    "rds <- file.path('data','gojo_sctransformed_seuratobj.rds')\n",
    "saveRDS(gojo, file = rds)"
   ]
  },
  {
   "cell_type": "code",
   "execution_count": null,
   "id": "4bba672a-cf30-4ac1-92b4-efba60a03066",
   "metadata": {},
   "outputs": [],
   "source": [
    "# Checkpoint: load this file if you don't want to wait an hour for SCTransform.\n",
    "rds <- file.path('data','gojo_sctransformed_seuratobj.rds')\n",
    "gojo <- readRDS(file = rds)\n",
    "gojo"
   ]
  },
  {
   "cell_type": "code",
   "execution_count": null,
   "id": "8b2dcc3f-e2cf-41c9-82da-4f8df34e57c7",
   "metadata": {},
   "outputs": [],
   "source": []
  },
  {
   "cell_type": "code",
   "execution_count": null,
   "id": "be5855cc-b98a-4954-874c-4ef31f16f355",
   "metadata": {},
   "outputs": [],
   "source": [
    "# If we cluster and plot after normalization but before batch correction, we largely get a soup that doesn't segregate by\n",
    "# sample or by annotation.\n",
    "gojo <- RunPCA(gojo, verbose = FALSE, reduction.name=\"normalized.pca\")\n",
    "gojo <- RunUMAP(gojo, dims = 1:30, verbose = FALSE, reduction=\"normalized.pca\",reduction.name=\"normalized.umap\")\n",
    "gojo <- FindNeighbors(gojo, dims = 1:30, verbose = FALSE, reduction=\"normalized.pca\",graph.name=\"normalized.snn\")\n",
    "gojo <- FindClusters(gojo, verbose = FALSE, graph.name=\"normalized.snn\", cluster.name=\"normalized.clusters\")\n"
   ]
  },
  {
   "cell_type": "code",
   "execution_count": null,
   "id": "3d3abd81-7c26-4839-b38c-a67de69489b0",
   "metadata": {},
   "outputs": [],
   "source": [
    "print(c('Cluster similarity to sample IDs: ',mclust::adjustedRandIndex(\n",
    "    gojo[[]]$sample,\n",
    "    gojo[[]]$normalized.clusters)))\n",
    "print(c('Cluster similarity to cell types: ',mclust::adjustedRandIndex(\n",
    "    gojo[[]]$annotation,\n",
    "    gojo[[]]$normalized.clusters)))\n",
    "\n",
    "options(repr.plot.width = 16, repr.plot.height =8)\n",
    "DimPlot(gojo, reduction=\"normalized.umap\", label=TRUE, group.by=\"annotation\", label.size=6, repel=TRUE)"
   ]
  },
  {
   "cell_type": "code",
   "execution_count": null,
   "id": "8b60634c-5d45-4559-bf00-962e79dd2ce3",
   "metadata": {
    "scrolled": true
   },
   "outputs": [],
   "source": [
    "# Batch correction\n",
    "# TODO: wrap in function\n",
    "gojo <- gojo %>% IntegrateLayers(\n",
    "    method = HarmonyIntegration,\n",
    "    orig.reduction = \"normalized.pca\", new.reduction = \"harmony\",\n",
    "    normalization.method = \"SCT\"\n",
    ")\n",
    "gojo <- RunUMAP(gojo, dims = 1:30, verbose = FALSE, reduction=\"harmony\",reduction.name=\"harmony.umap\")\n",
    "gojo <- FindNeighbors(gojo, dims = 1:30, verbose = FALSE, reduction=\"harmony\",graph.name=\"harmony.snn\")\n",
    "gojo <- FindClusters(gojo, verbose = FALSE, graph.name=\"harmony.snn\", cluster.name=\"harmony.clusters\")\n",
    "\n",
    "print(c('Cluster similarity to sample IDs: ',mclust::adjustedRandIndex(\n",
    "    gojo[[]]$sample,\n",
    "    gojo[[]]$harmony.clusters)))\n",
    "print(c('Cluster similarity to cell types: ',mclust::adjustedRandIndex(\n",
    "    gojo[[]]$annotation,\n",
    "    gojo[[]]$harmony.clusters)))\n"
   ]
  },
  {
   "cell_type": "code",
   "execution_count": null,
   "id": "943dc7f6-3161-4ff5-ab0a-f5d92b931919",
   "metadata": {},
   "outputs": [],
   "source": [
    "options(repr.plot.width = 16, repr.plot.height =8)\n",
    "DimPlot(gojo, reduction=\"harmony.umap\", label=TRUE, group.by=\"annotation\", label.size=6, repel=TRUE)\n",
    "DimPlot(gojo, reduction=\"harmony.umap\", label=TRUE, group.by=\"harmony.clusters\", label.size=6, repel=TRUE)"
   ]
  },
  {
   "cell_type": "code",
   "execution_count": null,
   "id": "266e08fb-cc5a-4d8f-b9b2-25414737de1c",
   "metadata": {},
   "outputs": [],
   "source": [
    "VlnPlot(gojo, features = 'L1CAM', group.by='annotation')\n",
    "# L1CAM restricted to PF-Neuronal-Precursor-like and ST cell types.\n",
    "VlnPlot(gojo, features = 'L1CAM', group.by='sample')\n",
    "# BT1030 and CPDM0785 do not resemble RELA ependymomas in L1CAM expression.\n",
    "# MUV006 (ST-YAP1) does not express L1CAM."
   ]
  },
  {
   "cell_type": "code",
   "execution_count": null,
   "id": "965730e2-c064-4d00-91bb-2f7bb3571a4b",
   "metadata": {},
   "outputs": [],
   "source": [
    "microglia_markers = c('CD14', 'FCER1G', 'CSF1R')\n",
    "tcell_markers = c('CD3E', 'CD4', 'CD8A')\n",
    "opc_markers = c('OLIG1', 'APOD', 'PDGFRA')\n",
    "oligodendrocyte_markers = c('MBP', 'PLP1', 'MOG')\n",
    "other_markers = c('L1CAM')\n",
    "markers = c(microglia_markers,tcell_markers,opc_markers,oligodendrocyte_markers,other_markers)\n",
    "DotPlot(gojo, features = markers, group.by = \"annotation\") #+ RotatedAxis()"
   ]
  },
  {
   "cell_type": "code",
   "execution_count": null,
   "id": "177a3331-8666-4df5-9fb4-ba70c2af04fe",
   "metadata": {},
   "outputs": [],
   "source": [
    "#TODO: genes correlated with L1CAM expression\n",
    "FeaturePlot(gojo, features = \"L1CAM\",pt.size=2,reduction='harmony.umap')"
   ]
  }
 ],
 "metadata": {
  "kernelspec": {
   "display_name": "single-cell",
   "language": "R",
   "name": "single-cell"
  },
  "language_info": {
   "codemirror_mode": "r",
   "file_extension": ".r",
   "mimetype": "text/x-r-source",
   "name": "R",
   "pygments_lexer": "r",
   "version": "4.3.3"
  }
 },
 "nbformat": 4,
 "nbformat_minor": 5
}
