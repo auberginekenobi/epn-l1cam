{
 "cells": [
  {
   "cell_type": "markdown",
   "id": "20648ddd-e4ea-4f7f-9333-1388d4ef6b08",
   "metadata": {},
   "source": [
    "# Batch correction and integrated analysis of ependymoma samples\n",
    "Regrettably, seems gojo et al aggregated all of their sequencing by sample, so impossible now to\n",
    "batch correct on sequencing type (scSmart-seq2, snSmart-seq2, 10X Genomics) without reanalyzing from scratch.\n",
    "\n",
    "Current best practice advises against analysis at the feature (gene) level after batch integration.\n"
   ]
  },
  {
   "cell_type": "code",
   "execution_count": null,
   "id": "684ebee4-3fd5-4905-b86e-e89f9f7862d3",
   "metadata": {
    "scrolled": true
   },
   "outputs": [],
   "source": [
    "# Load all required libraries\n",
    "Sys.setenv(LANGUAGE = \"en\") # set language to \"ja\" if you prefer\n",
    "library(Seurat)\n",
    "library(tidyverse)\n",
    "library(harmony)\n",
    "library(ggplot2)\n",
    "library(future)\n",
    "library(ggalluvial)\n",
    "library(mclust)"
   ]
  },
  {
   "cell_type": "code",
   "execution_count": null,
   "id": "835ca68a-f665-4aca-a069-e3c3121565f4",
   "metadata": {},
   "outputs": [],
   "source": [
    "# Set parallel execution settings\n",
    "future::plan(\"multisession\", workers = as.integer(availableCores()/2), gc = TRUE)\n",
    "options(future.globals.maxSize = 1024*8*1024^2) # Set max variable size to 8Gb"
   ]
  },
  {
   "cell_type": "code",
   "execution_count": null,
   "id": "91b35b60-bdc5-4504-bd87-97b15980fcf3",
   "metadata": {},
   "outputs": [],
   "source": [
    "# Load data\n",
    "DATA_DIR = file.path('data','external','gojo_et_al') # change this if you put your data somewhere other than ./data/external/gojo_et_al/\n",
    "import_gojo_data <- function(counts_file,metadata_file,path){\n",
    "    counts_path = file.path(DATA_DIR,counts_file)\n",
    "    metadata_path = file.path(DATA_DIR,metadata_file)\n",
    "    counts = read.table(counts_path)\n",
    "    meta = read.table(metadata_path)    \n",
    "    obj <- CreateSeuratObject(counts = counts , meta.data = meta) %>% suppressWarnings\n",
    "    return(obj)\n",
    "}\n",
    "clean_pdx <- function(pdx){\n",
    "    # clean the pdx metadata.\n",
    "    # Delete column V1 (duplicate of row indices)\n",
    "    # rename column V2\n",
    "    names(pdx[[]])[names(pdx[[]]) == 'V2'] <- 'sample'\n",
    "    pdx@meta.data[c('V1','V2')] <- NULL\n",
    "    pdx$annotation <- pdx$sample\n",
    "    return(pdx)\n",
    "}"
   ]
  },
  {
   "cell_type": "code",
   "execution_count": null,
   "id": "9dcbff87-1b4b-4fb5-b8ea-f767a130ebb7",
   "metadata": {},
   "outputs": [],
   "source": [
    "# we're loading a lot of data so this will take a long time\n",
    "pf = import_gojo_data('PF_EPN_counts_200519lj.txt','PF_EPN_metadata_200519lj.txt',DATA_DIR)\n",
    "sp = import_gojo_data('SP_EPN_counts_200519lj.txt','SP_EPN_metadata_200519lj.txt',DATA_DIR)\n",
    "st = import_gojo_data('ST_EPN_counts_200519lj.txt','ST_EPN_metadata_200519lj.txt',DATA_DIR)\n",
    "pdx = import_gojo_data('PDX_counts.txt','PDX_metadata.txt',DATA_DIR) %>% clean_pdx\n",
    "pairs = import_gojo_data('Matched_pair_counts_200519lj.txt','Matched_pair_metadata_200519lj.txt',DATA_DIR)\n",
    "\n",
    "pf\n",
    "sp\n",
    "st\n",
    "pdx\n",
    "pairs"
   ]
  },
  {
   "cell_type": "code",
   "execution_count": null,
   "id": "0a87aba3-1af8-42e9-b702-d9fc7a64d5c1",
   "metadata": {},
   "outputs": [],
   "source": [
    "# merge into 1 dataset\n",
    "gojo <- merge(pf, y=c(sp,st,pdx,pairs)) %>% JoinLayers\n",
    "gojo\n",
    "# list samples\n",
    "get_sample_names <- function(seuratobject){\n",
    "    return(seuratobject@meta.data$sample %>% unique())\n",
    "}\n",
    "get_sample_names(gojo)"
   ]
  },
  {
   "cell_type": "code",
   "execution_count": null,
   "id": "5f063803-345b-4290-a696-319a2fa092c4",
   "metadata": {},
   "outputs": [],
   "source": [
    "# Define QC thresholds\n",
    "ncount_lower_threshold = 1000\n",
    "ncount_upper_threshold = 1000000\n",
    "nfeature_lower_threshold = 1000\n",
    "nfeature_upper_threshold = 10000\n",
    "\n",
    "# Plot threshods\n",
    "options(repr.plot.width = 16, repr.plot.height =6)\n",
    "VlnPlot(gojo, features=\"nCount_RNA\", group.by='sample', log=TRUE) + \n",
    "    geom_hline(yintercept=ncount_lower_threshold, color='red') + \n",
    "    geom_hline(yintercept=ncount_upper_threshold, color='red')\n",
    "VlnPlot(gojo, features=\"nFeature_RNA\", group.by='sample') +\n",
    "    geom_hline(yintercept=nfeature_lower_threshold,color='red') + \n",
    "    geom_hline(yintercept=nfeature_upper_threshold,color='red')\n",
    "\n",
    "# apply QC filter\n",
    "gojo<-subset(gojo, nFeature_RNA > nfeature_lower_threshold & nFeature_RNA < nfeature_upper_threshold &\n",
    "                        nCount_RNA > ncount_lower_threshold & nCount_RNA < ncount_upper_threshold)\n",
    "gojo\n",
    "# 161 cells filtered"
   ]
  },
  {
   "cell_type": "code",
   "execution_count": null,
   "id": "4c2aeabf-baa2-4b98-b8e8-e7615b87252e",
   "metadata": {},
   "outputs": [],
   "source": [
    "# scTransform should be performed per sample. See\n",
    "# https://github.com/satijalab/seurat/issues/5306\n",
    "# https://satijalab.org/seurat/archive/v4.3/sctransform_v2_vignette\n",
    "gojo[[\"RNA\"]] <- split(gojo[[\"RNA\"]], f = gojo$sample)\n",
    "DefaultAssay(gojo) <- \"RNA\"\n",
    "gojo"
   ]
  },
  {
   "cell_type": "code",
   "execution_count": null,
   "id": "5100661e-4091-4c6d-861b-fe1e57ac767e",
   "metadata": {
    "scrolled": true
   },
   "outputs": [],
   "source": [
    "# Normalization\n",
    "# For details see https://satijalab.org/seurat/articles/sctransform_vignette.html\n",
    "# This takes a long time (>1h on 12 cores)\n",
    "gojo <- SCTransform(gojo, verbose = TRUE, vst.flavor = \"v2\")"
   ]
  },
  {
   "cell_type": "code",
   "execution_count": null,
   "id": "80c0078e-7637-4d3d-b524-19683c23f331",
   "metadata": {},
   "outputs": [],
   "source": [
    "# Checkpoint: normalization took forever so we save this as an .rds file\n",
    "rds <- file.path('data','gojo_sctransformed_seuratobj.rds')\n",
    "saveRDS(gojo, file = rds)"
   ]
  },
  {
   "cell_type": "code",
   "execution_count": null,
   "id": "4bba672a-cf30-4ac1-92b4-efba60a03066",
   "metadata": {},
   "outputs": [],
   "source": [
    "# Checkpoint: load this file if you don't want to wait an hour for SCTransform.\n",
    "rds <- file.path('data','gojo_sctransformed_seuratobj.rds')\n",
    "gojo <- readRDS(file = rds)\n",
    "gojo"
   ]
  },
  {
   "cell_type": "code",
   "execution_count": null,
   "id": "be5855cc-b98a-4954-874c-4ef31f16f355",
   "metadata": {},
   "outputs": [],
   "source": [
    "# If we cluster and plot after normalization but before batch correction, we largely get a soup that doesn't segregate by\n",
    "# sample or by annotation.\n",
    "gojo <- RunPCA(gojo, verbose = FALSE, reduction.name=\"normalized.pca\")\n",
    "gojo <- RunUMAP(gojo, dims = 1:30, verbose = FALSE, reduction=\"normalized.pca\",reduction.name=\"normalized.umap\")\n",
    "gojo <- FindNeighbors(gojo, dims = 1:30, verbose = FALSE, reduction=\"normalized.pca\",graph.name=\"normalized.snn\")\n",
    "gojo <- FindClusters(gojo, verbose = FALSE, graph.name=\"normalized.snn\", cluster.name=\"normalized.clusters\")\n"
   ]
  },
  {
   "cell_type": "code",
   "execution_count": null,
   "id": "3d3abd81-7c26-4839-b38c-a67de69489b0",
   "metadata": {},
   "outputs": [],
   "source": [
    "print(c('Cluster similarity to sample IDs: ',mclust::adjustedRandIndex(\n",
    "    gojo[[]]$sample,\n",
    "    gojo[[]]$normalized.clusters)))\n",
    "print(c('Cluster similarity to cell types: ',mclust::adjustedRandIndex(\n",
    "    gojo[[]]$annotation,\n",
    "    gojo[[]]$normalized.clusters)))\n",
    "\n",
    "options(repr.plot.width = 16, repr.plot.height =8)\n",
    "DimPlot(gojo, reduction=\"normalized.umap\", label=TRUE, group.by=\"annotation\", label.size=6, repel=TRUE)"
   ]
  },
  {
   "cell_type": "code",
   "execution_count": null,
   "id": "8b60634c-5d45-4559-bf00-962e79dd2ce3",
   "metadata": {
    "scrolled": true
   },
   "outputs": [],
   "source": [
    "# Batch correction\n",
    "# TODO: wrap in function\n",
    "gojo <- gojo %>% IntegrateLayers(\n",
    "    method = HarmonyIntegration,\n",
    "    orig.reduction = \"normalized.pca\", new.reduction = \"harmony\",\n",
    "    normalization.method = \"SCT\"\n",
    ")\n",
    "gojo <- RunUMAP(gojo, dims = 1:30, verbose = FALSE, reduction=\"harmony\",reduction.name=\"harmony.umap\")\n",
    "gojo <- FindNeighbors(gojo, dims = 1:30, verbose = FALSE, reduction=\"harmony\",graph.name=\"harmony.snn\")\n",
    "gojo <- FindClusters(gojo, verbose = FALSE, graph.name=\"harmony.snn\", cluster.name=\"harmony.clusters\")\n",
    "\n",
    "print(c('Cluster similarity to sample IDs: ',mclust::adjustedRandIndex(\n",
    "    gojo[[]]$sample,\n",
    "    gojo[[]]$harmony.clusters)))\n",
    "print(c('Cluster similarity to cell types: ',mclust::adjustedRandIndex(\n",
    "    gojo[[]]$annotation,\n",
    "    gojo[[]]$harmony.clusters)))\n"
   ]
  },
  {
   "cell_type": "code",
   "execution_count": null,
   "id": "943dc7f6-3161-4ff5-ab0a-f5d92b931919",
   "metadata": {},
   "outputs": [],
   "source": [
    "options(repr.plot.width = 16, repr.plot.height =8)\n",
    "DimPlot(gojo, reduction=\"harmony.umap\", label=TRUE, group.by=\"annotation\", label.size=6, repel=TRUE)\n",
    "DimPlot(gojo, reduction=\"harmony.umap\", label=TRUE, group.by=\"harmony.clusters\", label.size=6, repel=TRUE)"
   ]
  },
  {
   "cell_type": "code",
   "execution_count": null,
   "id": "266e08fb-cc5a-4d8f-b9b2-25414737de1c",
   "metadata": {},
   "outputs": [],
   "source": [
    "options(repr.plot.width = 16, repr.plot.height =8)\n",
    "\n",
    "VlnPlot(gojo, features = 'L1CAM', group.by='annotation')\n",
    "# L1CAM restricted to PF-Neuronal-Precursor-like and ST cell types.\n",
    "VlnPlot(gojo, features = 'L1CAM', group.by='sample')\n",
    "# BT1030 and CPDM0785 do not resemble RELA ependymomas in L1CAM expression.\n",
    "# MUV006 (ST-YAP1) does not express L1CAM."
   ]
  },
  {
   "cell_type": "code",
   "execution_count": null,
   "id": "965730e2-c064-4d00-91bb-2f7bb3571a4b",
   "metadata": {},
   "outputs": [],
   "source": [
    "microglia_markers = c('CD14', 'FCER1G', 'CSF1R')\n",
    "tcell_markers = c('CD3E', 'CD4', 'CD8A')\n",
    "opc_markers = c('OLIG1', 'APOD', 'PDGFRA')\n",
    "oligodendrocyte_markers = c('MBP', 'PLP1', 'MOG')\n",
    "other_markers = c('L1CAM')\n",
    "markers = c(microglia_markers,tcell_markers,opc_markers,oligodendrocyte_markers,other_markers)\n",
    "DotPlot(gojo, features = markers, group.by = \"annotation\") #+ RotatedAxis()"
   ]
  },
  {
   "cell_type": "code",
   "execution_count": null,
   "id": "177a3331-8666-4df5-9fb4-ba70c2af04fe",
   "metadata": {},
   "outputs": [],
   "source": [
    "#TODO: genes correlated with L1CAM expression\n",
    "FeaturePlot(gojo, features = \"L1CAM\",pt.size=2,reduction='harmony.umap')"
   ]
  },
  {
   "cell_type": "markdown",
   "id": "45713c9f-39ae-41dd-a03d-baa1433e39b6",
   "metadata": {},
   "source": [
    "# What cell types express L1CAM?\n",
    "Markers: GLI2, CD276"
   ]
  },
  {
   "cell_type": "code",
   "execution_count": null,
   "id": "9bed8c82-6660-4308-98e4-e94dd2835379",
   "metadata": {},
   "outputs": [],
   "source": [
    "DimPlot(gojo)"
   ]
  },
  {
   "cell_type": "markdown",
   "id": "fef3cf19-9b3d-47f6-a702-6c308bed8add",
   "metadata": {},
   "source": [
    "# Less useful plots"
   ]
  },
  {
   "cell_type": "code",
   "execution_count": null,
   "id": "12f180c2-62cf-4bf2-bdca-f811cb5a3fd2",
   "metadata": {},
   "outputs": [],
   "source": [
    "# take a closer look at only the ST ependymoma samples\n",
    "options(repr.plot.width = 24, repr.plot.height=8)\n",
    "gojo_subset = gojo %>% subset(\n",
    "    sample %in% c('MUV043','MUV043Nuc1','MUV043Nuc2','MUV056','Peds4','BT165PDX') &\n",
    "    annotation %in% c('ST-Ependymal-like','ST-G2M-Phase','ST-Interferon-Response','ST-Metabolic','ST-Midline','ST-Neuronal-Precursor-like','ST-RELA-Variable',\n",
    "                     'ST-Radial-Glia-like','ST-S-Phase','ST-YAP1',NA)\n",
    ")\n",
    "VlnPlot(gojo_subset, features = 'L1CAM', split.by='annotation',group.by='sample')\n",
    "# No obvious differences by cell type in within-sample variation of L1CAM."
   ]
  },
  {
   "cell_type": "code",
   "execution_count": null,
   "id": "251afbc5-2d97-4841-89e2-ab25e092ac03",
   "metadata": {},
   "outputs": [],
   "source": [
    "# Alluvial diagram; too complicated to be really useful.\n",
    "frequency_table <- gojo[[]] %>%\n",
    "  group_by(sample, harmony.clusters, annotation) %>%\n",
    "  summarise(count = n(), .groups = 'drop')\n",
    "\n",
    "ggplot(frequency_table,\n",
    "       aes(axis1 = sample,\n",
    "           axis2 = harmony.clusters,\n",
    "           axis3 = annotation,\n",
    "           y = count)) +\n",
    "  geom_alluvium(aes(fill = annotation)) +\n",
    "  geom_stratum() +\n",
    "  geom_text(stat = \"stratum\", \n",
    "            aes(label = after_stat(stratum)))"
   ]
  },
  {
   "cell_type": "markdown",
   "id": "30f573db-e843-4812-a237-e3270ca5aeab",
   "metadata": {},
   "source": [
    "# Trying alternative batch corrections\n",
    "See https://satijalab.org/seurat/articles/integration_introduction#perform-integration-with-sctransform-normalized-datasets"
   ]
  },
  {
   "cell_type": "code",
   "execution_count": null,
   "id": "5de2af24-c695-4bea-bce1-35b3ff54ef3b",
   "metadata": {
    "scrolled": true
   },
   "outputs": [],
   "source": [
    "\n",
    "gojo <- gojo %>% IntegrateLayers(\n",
    "    method = CCAIntegration,\n",
    "    orig.reduction = \"normalized.pca\", new.reduction = \"cca\",\n",
    "    normalization.method = \"SCT\",\n",
    "    k.weight=50\n",
    ")\n",
    "gojo <- RunUMAP(gojo, dims = 1:30, verbose = FALSE, reduction=\"cca\",reduction.name=\"cca.umap\")\n",
    "gojo <- FindNeighbors(gojo, dims = 1:30, verbose = FALSE, reduction=\"cca\",graph.name=\"cca.snn\")\n",
    "gojo <- FindClusters(gojo, verbose = FALSE, graph.name=\"cca.snn\", cluster.name=\"cca.clusters\")\n",
    "\n",
    "print(c('Cluster similarity to sample IDs: ',mclust::adjustedRandIndex(\n",
    "    gojo[[]]$sample,\n",
    "    gojo[[]]$cca.clusters)))\n",
    "print(c('Cluster similarity to cell types: ',mclust::adjustedRandIndex(\n",
    "    gojo[[]]$annotation,\n",
    "    gojo[[]]$cca.clusters)))\n",
    "# CCA seems to be able to distinguish OPCs and cycling cells, but has trouble distinguishing clusters. Probably not useful."
   ]
  },
  {
   "cell_type": "code",
   "execution_count": null,
   "id": "28f022ba-36f6-4350-ba6e-bcc5fbec0a91",
   "metadata": {},
   "outputs": [],
   "source": [
    "options(repr.plot.width = 16, repr.plot.height =8)\n",
    "DimPlot(gojo, reduction=\"cca.umap\", label=TRUE, group.by=\"annotation\", label.size=6, repel=TRUE)\n",
    "DimPlot(gojo, reduction=\"cca.umap\", label=TRUE, group.by=\"cca.clusters\", label.size=6, repel=TRUE)\n",
    "DimPlot(gojo, reduction=\"cca.umap\", label=TRUE, group.by=\"sample\", label.size=6, repel=TRUE)"
   ]
  },
  {
   "cell_type": "code",
   "execution_count": null,
   "id": "7d2c1c88-c31f-46f5-94ce-712164daaea4",
   "metadata": {},
   "outputs": [],
   "source": [
    "gojo <- gojo %>% IntegrateLayers(\n",
    "    method = RPCAIntegration,\n",
    "    orig.reduction = \"normalized.pca\", new.reduction = \"rpca\",\n",
    "    normalization.method = \"SCT\"\n",
    ")\n",
    "gojo <- RunUMAP(gojo, dims = 1:30, verbose = FALSE, reduction=\"rpca\",reduction.name=\"rpca.umap\")\n",
    "gojo <- FindNeighbors(gojo, dims = 1:30, verbose = FALSE, reduction=\"rpca\",graph.name=\"rpca.snn\")\n",
    "gojo <- FindClusters(gojo, verbose = FALSE, graph.name=\"rpca.snn\", cluster.name=\"rpca.clusters\")\n",
    "\n",
    "print(c('Cluster similarity to sample IDs: ',mclust::adjustedRandIndex(\n",
    "    gojo[[]]$sample,\n",
    "    gojo[[]]$rpca.clusters)))\n",
    "print(c('Cluster similarity to cell types: ',mclust::adjustedRandIndex(\n",
    "    gojo[[]]$annotation,\n",
    "    gojo[[]]$rpca.clusters)))\n",
    "# "
   ]
  },
  {
   "cell_type": "code",
   "execution_count": null,
   "id": "1236aa99-b12e-4011-9a94-4d695e43717e",
   "metadata": {},
   "outputs": [],
   "source": [
    "options(repr.plot.width = 16, repr.plot.height =8)\n",
    "DimPlot(gojo, reduction=\"rpca.umap\", label=TRUE, group.by=\"annotation\", label.size=6, repel=TRUE)\n",
    "DimPlot(gojo, reduction=\"rpca.umap\", label=TRUE, group.by=\"cca.clusters\", label.size=6, repel=TRUE)\n",
    "DimPlot(gojo, reduction=\"rpca.umap\", label=TRUE, group.by=\"sample\", label.size=6, repel=TRUE)"
   ]
  }
 ],
 "metadata": {
  "kernelspec": {
   "display_name": "single-cell",
   "language": "R",
   "name": "single-cell"
  },
  "language_info": {
   "codemirror_mode": "r",
   "file_extension": ".r",
   "mimetype": "text/x-r-source",
   "name": "R",
   "pygments_lexer": "r",
   "version": "4.3.3"
  }
 },
 "nbformat": 4,
 "nbformat_minor": 5
}
