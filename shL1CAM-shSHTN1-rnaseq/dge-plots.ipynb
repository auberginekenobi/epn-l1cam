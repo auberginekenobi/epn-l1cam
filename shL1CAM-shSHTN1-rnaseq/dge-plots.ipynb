{
 "cells": [
  {
   "cell_type": "markdown",
   "id": "fc6305fb-ac64-4beb-ba55-4404e1851229",
   "metadata": {},
   "source": [
    "# dge-plots.ipynb\n",
    "Generate upsetplot, heatmap for the DGE analysis in deseq2_shL1CAM-shSHTN1.ipynb\n",
    "\n",
    "## Requirements\n",
    "- Package dependencies in `heatmap.yml`\n",
    "- DGE analysis output files in `results/deseq2/sh{GENE}_deg.tsv`"
   ]
  },
  {
   "cell_type": "code",
   "execution_count": null,
   "id": "f214b69f-4a5b-4d70-a4dd-0e56f471e85a",
   "metadata": {
    "scrolled": true
   },
   "outputs": [],
   "source": [
    "# Load dependencies\n",
    "Sys.setenv(LANGUAGE = \"en\") # set language to \"ja\" if you prefer\n",
    "suppressPackageStartupMessages(library(dplyr))\n",
    "suppressPackageStartupMessages(library(tibble))\n",
    "suppressPackageStartupMessages(library(readr))\n",
    "suppressPackageStartupMessages(library(grid))\n",
    "suppressPackageStartupMessages(library(ComplexHeatmap))\n",
    "suppressPackageStartupMessages(library(extrafont))\n",
    "suppressPackageStartupMessages(library(svglite))\n",
    "\n",
    "getwd()\n",
    "sessionInfo()"
   ]
  },
  {
   "cell_type": "code",
   "execution_count": null,
   "id": "d025f190-898a-41d0-8fc5-25a5b315dba7",
   "metadata": {},
   "outputs": [],
   "source": [
    "# Specify global plotting settings\n",
    "suppressMessages(extrafont::font_import(pattern=\"Arial\",prompt=FALSE))\n",
    "suppressMessages(extrafont::loadfonts())\n",
    "gpmaj = grid::gpar(fontsize = 14, fontfamily = \"Arial\")\n",
    "gpmin = grid::gpar(fontsize = 10, fontfamily = \"Arial\")\n",
    "\n",
    "save_heatmap <- function(hm, filename_base, width = unit(5,\"cm\"), height = unit(5,\"cm\"), res = 300) {\n",
    "  # Save as PNG\n",
    "  png(paste0(filename_base, \".png\"), width = width, height = height, units = \"in\", res = res)\n",
    "  draw(hm)\n",
    "  dev.off()\n",
    "  \n",
    "  # Save as SVG\n",
    "  svg(paste0(filename_base, \".svg\"), width = width, height = height)\n",
    "  draw(hm)\n",
    "  dev.off()\n",
    "}"
   ]
  },
  {
   "cell_type": "code",
   "execution_count": null,
   "id": "392ca764-18f8-406a-bf55-af402be3fd87",
   "metadata": {
    "scrolled": true
   },
   "outputs": [],
   "source": [
    "# Load data\n",
    "shtn1_file = 'results/deseq2/shSHTN1_batch4_deg.tsv'\n",
    "l1cam_file = 'results/deseq2/shL1CAM_batch4_deg.tsv'\n",
    "\n",
    "read_dge <- function(file){\n",
    "    data = read.table(file, header = TRUE, sep = \"\\t\", row.names = 1) %>%\n",
    "        rownames_to_column('gene') %>%\n",
    "        as_tibble\n",
    "    return(data)\n",
    "}\n",
    "filter_dge <- function(data,direction='down',alpha=0.05){\n",
    "    if (direction == 'down'){\n",
    "        data = data %>%\n",
    "            filter(log2FoldChange < 0, padj < alpha) %>%\n",
    "            arrange(log2FoldChange)\n",
    "        return(data)\n",
    "    } else if (direction == 'up'){\n",
    "        data = data %>%\n",
    "            filter(log2FoldChange > 0, padj < alpha) %>%\n",
    "            arrange(desc(log2FoldChange))\n",
    "        return(data)\n",
    "    } else {\n",
    "        stop(\"direction must be 'up' or 'down'\")\n",
    "    }\n",
    "}\n",
    "\n",
    "shtn1_data = read_dge(shtn1_file)\n",
    "l1cam_data = read_dge(l1cam_file)\n",
    "\n",
    "# get all genes tested\n",
    "universe=shtn1_data$gene %>% unique\n",
    "stopifnot(setequal(universe, l1cam_data$gene %>% unique))\n",
    "\n",
    "shtn1_hits_dn = shtn1_data %>% filter_dge\n",
    "l1cam_hits_dn = l1cam_data %>% filter_dge\n",
    "\n",
    "shtn1_hits_up = shtn1_data %>% filter_dge(direction='up')\n",
    "l1cam_hits_up = l1cam_data %>% filter_dge(direction='up')\n",
    "\n",
    "shtn1_data %>% head(n=10)\n",
    "l1cam_data %>% head(n=10)"
   ]
  },
  {
   "cell_type": "code",
   "execution_count": null,
   "id": "bc15494a-abff-475f-a9c4-e7bc08805189",
   "metadata": {},
   "outputs": [],
   "source": [
    "upset_data = make_comb_mat(list(\n",
    "    \"shSHTN1\\ndown\" = shtn1_hits_dn$gene %>% unique,\n",
    "    \"shL1CAM\\ndown\" = l1cam_hits_dn$gene %>% unique\n",
    "),universal_set=universe,mode='distinct')\n",
    "\n",
    "\n",
    "fig1 <- UpSet(upset_data,\n",
    "    width=unit(5,\"cm\"),\n",
    "    height=unit(5,\"cm\"),\n",
    "    top_annotation = upset_top_annotation(upset_data, \n",
    "        add_numbers = TRUE, \n",
    "        height=unit(6,\"cm\"),\n",
    "        annotation_name_gp=gpmaj,\n",
    "        annotation_name_rot=90,\n",
    "        numbers_gp=gpmin,\n",
    "        axis_param=list(gp=gpmin)\n",
    "    ),\n",
    "    right_annotation = upset_right_annotation(upset_data, \n",
    "        add_numbers = TRUE,\n",
    "        width=unit(6,\"cm\"),\n",
    "        annotation_name_gp=gpmaj,\n",
    "        numbers_gp=gpmin,\n",
    "        axis_param=list(gp=gpmin)\n",
    "    ),\n",
    "    row_names_gp = gpmaj,\n",
    "    column_names_gp = gpmaj\n",
    ")\n",
    "fig1\n",
    "save_heatmap(hm = fig1, filename_base = 'results/deseq2/upset_down')"
   ]
  },
  {
   "cell_type": "code",
   "execution_count": null,
   "id": "5792745c-c569-4d93-a6fb-dda724e87421",
   "metadata": {},
   "outputs": [],
   "source": [
    "fig1 %>% class"
   ]
  },
  {
   "cell_type": "code",
   "execution_count": null,
   "id": "2c932ab5-4b97-4f67-b249-4ac68c078da7",
   "metadata": {},
   "outputs": [],
   "source": [
    "upset_data = make_comb_mat(list(\n",
    "    \"shSHTN1\\ndown\" = shtn1_hits_dn$gene %>% unique,\n",
    "    \"shL1CAM\\ndown\" = l1cam_hits_dn$gene %>% unique,\n",
    "    \"shSHTN1\\nup\" = shtn1_hits_up$gene %>% unique,\n",
    "    \"shL1CAM\\nup\" = l1cam_hits_up$gene %>% unique\n",
    "),universal_set=universe,mode='distinct')\n",
    "\n",
    "\n",
    "fig2 <- UpSet(upset_data,\n",
    "    width=unit(5,\"cm\"),\n",
    "    height=unit(5,\"cm\"),\n",
    "    top_annotation = upset_top_annotation(upset_data, \n",
    "        add_numbers = TRUE, \n",
    "        height=unit(6,\"cm\"),\n",
    "        annotation_name_gp=gpmaj,\n",
    "        annotation_name_rot=90,\n",
    "        numbers_gp=gpmin,\n",
    "        axis_param=list(gp=gpmin)\n",
    "    ),\n",
    "    right_annotation = upset_right_annotation(upset_data, \n",
    "        add_numbers = TRUE,\n",
    "        width=unit(6,\"cm\"),\n",
    "        annotation_name_gp=gpmaj,\n",
    "        numbers_gp=gpmin,\n",
    "        axis_param=list(gp=gpmin)\n",
    "    ),\n",
    "    row_names_gp = gpmaj,\n",
    "    column_names_gp = gpmaj\n",
    ")\n",
    "fig2\n",
    "save_heatmap(hm = fig2, filename_base = 'results/deseq2/upset_both')"
   ]
  },
  {
   "cell_type": "code",
   "execution_count": null,
   "id": "ea100b66-073e-40db-bd6a-8d58c278e636",
   "metadata": {
    "scrolled": true
   },
   "outputs": [],
   "source": [
    "hits <- intersect(shtn1_hits_dn$gene, l1cam_hits_dn$gene) \n",
    "writeLines(as.character(hits))"
   ]
  },
  {
   "cell_type": "code",
   "execution_count": null,
   "id": "a98d1add-33e2-4bb0-addc-3b9c73dcb28a",
   "metadata": {
    "scrolled": true
   },
   "outputs": [],
   "source": [
    "writeLines(as.character(shtn1_hits_dn$gene))"
   ]
  },
  {
   "cell_type": "code",
   "execution_count": null,
   "id": "5a272159-24bf-4d1c-8ba7-31e616f9c236",
   "metadata": {},
   "outputs": [],
   "source": [
    "# Lookup genes of interest\n",
    "genes_of_interest = c('SHTN1','L1CAM','CCN2','CCN1','YAP1') # CTGF = CCN2; CYR61 =  CCN1\n",
    "shtn1_data %>% subset(gene %in% genes_of_interest)\n",
    "message(\"\")\n",
    "l1cam_data %>% subset(gene %in% genes_of_interest)"
   ]
  },
  {
   "cell_type": "code",
   "execution_count": null,
   "id": "b5702cec-d1bb-460c-8e3d-f000812afdc4",
   "metadata": {},
   "outputs": [],
   "source": []
  },
  {
   "cell_type": "code",
   "execution_count": null,
   "id": "7b6e9bbe-af37-4ff8-af31-4dfb8e0ec4d6",
   "metadata": {},
   "outputs": [],
   "source": []
  }
 ],
 "metadata": {
  "kernelspec": {
   "display_name": "heatmap",
   "language": "R",
   "name": "heatmap"
  },
  "language_info": {
   "codemirror_mode": "r",
   "file_extension": ".r",
   "mimetype": "text/x-r-source",
   "name": "R",
   "pygments_lexer": "r",
   "version": "4.4.3"
  }
 },
 "nbformat": 4,
 "nbformat_minor": 5
}
